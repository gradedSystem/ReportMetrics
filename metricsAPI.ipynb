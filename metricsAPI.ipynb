{
  "nbformat": 4,
  "nbformat_minor": 0,
  "metadata": {
    "colab": {
      "name": "metricsAPI.ipynb",
      "provenance": [],
      "collapsed_sections": []
    },
    "kernelspec": {
      "name": "python3",
      "display_name": "Python 3"
    },
    "language_info": {
      "name": "python"
    }
  },
  "cells": [
    {
      "cell_type": "code",
      "metadata": {
        "id": "g0K7Hn5dLyC2"
      },
      "source": [
        "import pandas as pd\n",
        "gids = ['1164376473','1840297911','897421023','1167027454']\n",
        "sheet_url = \"https://docs.google.com/spreadsheets/d/1Ycg7zTxds9DZnDvTrFcyNNKuTUxg6Yy6WF0a8Wc02WQ/edit#gid=\"\n",
        "url_1 = sheet_url.replace('/edit#gid=', '/export?format=csv&gid=')\n",
        "\n",
        "transaction = pd.read_csv(url_1+gids[0])\n",
        "clients = pd.read_csv(url_1+gids[1])\n",
        "managers = pd.read_csv(url_1+gids[2])\n",
        "leads = pd.read_csv(url_1+gids[3])"
      ],
      "execution_count": 3,
      "outputs": []
    },
    {
      "cell_type": "code",
      "metadata": {
        "colab": {
          "base_uri": "https://localhost:8080/"
        },
        "id": "Fak6xjJwyyYd",
        "outputId": "1ee7bb15-3323-42f9-ef72-3efbebee31ba"
      },
      "source": [
        "import numpy as np\n",
        "social_source_utm = list(set(leads.d_utm_source.to_list()))\n",
        "social_source_utm.remove('ycard#!/tproduct/225696739-1498486363994')\n",
        "new_social_source = []\n",
        "for i in social_source_utm:\n",
        "  if type(i) == float:\n",
        "    continue\n",
        "  new_social_source.append(i)\n",
        "social_source_utm = new_social_source\n",
        "print(social_source_utm)"
      ],
      "execution_count": 4,
      "outputs": [
        {
          "output_type": "stream",
          "text": [
            "['insta', 'instagram', 'sms', 'viber', 'utm_source', 'ycard', 'vkontakte', 'google', 'ig', 'yandex', 'vk']\n"
          ],
          "name": "stdout"
        }
      ]
    },
    {
      "cell_type": "code",
      "metadata": {
        "id": "2Dl89UqtWnEm"
      },
      "source": [
        "list_of_managers = managers.manager_id.to_list()\n",
        "list_club_ids = managers.d_club.to_list()"
      ],
      "execution_count": 5,
      "outputs": []
    },
    {
      "cell_type": "code",
      "metadata": {
        "id": "oH1aRamoreqw"
      },
      "source": [
        "list_of_clients = list(set(clients.client_id.to_list()))\n",
        "clients.created_at = pd.to_datetime(clients.created_at,errors = 'coerce')"
      ],
      "execution_count": 6,
      "outputs": []
    },
    {
      "cell_type": "code",
      "metadata": {
        "id": "RdMLhcNesvAk"
      },
      "source": [
        "transaction.created_at = pd.to_datetime(transaction.created_at)\n",
        "transaction = transaction.sort_values('created_at')"
      ],
      "execution_count": 7,
      "outputs": []
    },
    {
      "cell_type": "code",
      "metadata": {
        "colab": {
          "base_uri": "https://localhost:8080/"
        },
        "id": "P0LPG4l8PPLQ",
        "outputId": "bf1bb65b-4952-4dcf-c393-f8816e6afca2"
      },
      "source": [
        "#I would consider the first index of the zeros as Trash(Мусорная заявка)\n",
        "trash = leads.l_manager_id.value_counts().index[0]\n",
        "manager_list = managers.manager_id.to_list()\n",
        "club_list = managers.d_club.to_list()\n",
        "\n",
        "######## Some Metrics and Results ########\n",
        "total_trash_requests = 0\n",
        "metric_results = []\n",
        "for i in range(len(social_source_utm)):\n",
        "  lists = []\n",
        "  metric_results.append(lists)\n",
        "\n",
        "\n",
        "leads['created_at'] = pd.to_datetime(leads['created_at'])\n",
        "# Timeline 1 month \n",
        "sorted_month_leads = leads[(leads.created_at.dt.year == 2020) & (leads.created_at.dt.month == 10)]\n",
        "sorted_month_leads.reset_index(inplace=True)\n",
        "sorted_month_leads = sorted_month_leads.drop('index',axis=1)\n",
        "\n",
        "\n",
        "n = 0\n",
        "for i in range(len(metric_results)):\n",
        "  vals = sorted_month_leads[(sorted_month_leads.d_utm_source == social_source_utm[i])]\n",
        "  each_sets = list(set(vals.l_manager_id.to_list()))\n",
        "  temp_list = []\n",
        "  for j in each_sets:\n",
        "    totals = {\n",
        "      'Канал привлечения заявки' : social_source_utm[i],\n",
        "      'Клуб' : \"\",\n",
        "      'Менеджер' : \"\",\n",
        "      'Количество заявок' : 0,\n",
        "      'Количество мусорных заявок' : 0,\n",
        "      'Количество новых заявок' : 0,\n",
        "      'Количество покупателей' : 0,\n",
        "      'Количество новых покупателей' : 0,\n",
        "      'Доход от покупок новых покупателей' : 0\n",
        "    }\n",
        "    if j == trash:\n",
        "      continue\n",
        "    elif j not in list_of_managers:\n",
        "      totals['Клуб'] = \"\"\n",
        "      totals['Менеджер'] = \"\"\n",
        "    else:\n",
        "      index = list_of_managers.index(j)\n",
        "      totals['Клуб'] = list_club_ids[index]\n",
        "      totals['Менеджер'] = managers.d_manager[i]\n",
        "    totals['Количество заявок'] = len(vals[(vals.l_client_id != trash)])\n",
        "    trashes = vals[(vals.l_client_id == trash)]\n",
        "    totals['Количество мусорных заявок'] = len(trashes.l_client_id.to_list())\n",
        "    n_req = vals[(vals.l_client_id != trash) & any(item not in vals.l_client_id.to_list() for item in list_of_clients)]\n",
        "    totals['Количество новых заявок'] = len(n_req)\n",
        "    ix = vals[(vals.l_client_id != trash) & any(item in vals.l_client_id.to_list() for item in list_of_clients)].l_client_id.to_list()\n",
        "    number_of_buyers = 0\n",
        "    number_of_newbuyers = 0\n",
        "    revenue_of_newbuyers = 0\n",
        "    for k in ix:\n",
        "      client_transaction = transaction[(transaction.l_client_id == k)]\n",
        "\n",
        "      client_days = clients.created_at.dt.day*24*60*60\n",
        "      client_hours = clients.created_at.dt.hour*60*60\n",
        "      client_minutes = clients.created_at.dt.minute*60\n",
        "      client_seconds = clients.created_at.dt.second\n",
        "      client_total = client_days + client_hours + client_minutes + client_seconds\n",
        "      days = client_transaction.created_at.dt.day*24*60*60\n",
        "      created_days = vals[vals.l_client_id == k].created_at.dt.day*24*60*60\n",
        "      hours = client_transaction.created_at.dt.hour*60*60\n",
        "      created_hours = vals[vals.l_client_id == k].created_at.dt.hour*60*60\n",
        "      minutes = client_transaction.created_at.dt.minute*60\n",
        "      created_minutes = vals[vals.l_client_id == k].created_at.dt.minute*60\n",
        "      seconds = client_transaction.created_at.dt.second\n",
        "      created_seconds = vals[vals.l_client_id == k].created_at.dt.second\n",
        "      created_total = created_days+created_hours+created_minutes+created_seconds\n",
        "      total = days+hours+minutes+seconds\n",
        "      division = abs(client_total-created_total).iloc[0].astype(int)\n",
        "      if(len(total) == 0):\n",
        "        break\n",
        "      if created_total.iloc[0] < total.iloc[0] and division < 604800:\n",
        "        number_of_newbuyers+=1\n",
        "        revenue_of_newbuyers+=sum(client_transaction.m_real_amount.to_list())\n",
        "    iy = vals[(vals.l_client_id != trash) & any(item in vals.l_client_id.to_list() for item in list_of_clients)].l_client_id.to_list()\n",
        "\n",
        "    for k in iy:\n",
        "      client_transaction = transaction[(transaction.l_client_id == k)]\n",
        "      days = client_transaction.created_at.dt.day*24*60*60\n",
        "      created_days = vals[vals.l_client_id == k].created_at.dt.day*24*60*60\n",
        "      hours = client_transaction.created_at.dt.hour*60*60\n",
        "      created_hours = vals[vals.l_client_id == k].created_at.dt.hour*60*60\n",
        "      minutes = client_transaction.created_at.dt.minute*60\n",
        "      created_minutes = vals[vals.l_client_id == k].created_at.dt.minute*60\n",
        "      seconds = client_transaction.created_at.dt.second\n",
        "      created_seconds = vals[vals.l_client_id == k].created_at.dt.second\n",
        "\n",
        "      created_total = created_days+created_hours+created_minutes+created_seconds\n",
        "      total = days+hours+minutes+seconds\n",
        "      if(len(total) == 0):\n",
        "        break\n",
        "      if created_total.iloc[0] > total.iloc[0]:\n",
        "        number_of_buyers+=1\n",
        "    totals['Количество покупателей'] = number_of_buyers\n",
        "    totals['Количество новых покупателей'] = number_of_newbuyers\n",
        "    totals['Доход от покупок новых покупателей'] = revenue_of_newbuyers\n",
        "    temp_list.append(totals)\n",
        "    \n",
        "  metric_results[i] = temp_list[:]\n",
        "print(metric_results[0])"
      ],
      "execution_count": 24,
      "outputs": [
        {
          "output_type": "stream",
          "text": [
            "[{'Канал привлечения заявки': 'insta', 'Клуб': 'club #2', 'Менеджер': 'manager #8', 'Количество заявок': 16, 'Количество мусорных заявок': 1, 'Количество новых заявок': 16, 'Количество покупателей': 0, 'Количество новых покупателей': 1, 'Доход от покупок новых покупателей': 66402}, {'Канал привлечения заявки': 'insta', 'Клуб': 'club #4', 'Менеджер': 'manager #8', 'Количество заявок': 16, 'Количество мусорных заявок': 1, 'Количество новых заявок': 16, 'Количество покупателей': 0, 'Количество новых покупателей': 1, 'Доход от покупок новых покупателей': 66402}, {'Канал привлечения заявки': 'insta', 'Клуб': 'club #1', 'Менеджер': 'manager #8', 'Количество заявок': 16, 'Количество мусорных заявок': 1, 'Количество новых заявок': 16, 'Количество покупателей': 0, 'Количество новых покупателей': 1, 'Доход от покупок новых покупателей': 66402}, {'Канал привлечения заявки': 'insta', 'Клуб': 'club #4', 'Менеджер': 'manager #8', 'Количество заявок': 16, 'Количество мусорных заявок': 1, 'Количество новых заявок': 16, 'Количество покупателей': 0, 'Количество новых покупателей': 1, 'Доход от покупок новых покупателей': 66402}, {'Канал привлечения заявки': 'insta', 'Клуб': 'club #3', 'Менеджер': 'manager #8', 'Количество заявок': 16, 'Количество мусорных заявок': 1, 'Количество новых заявок': 16, 'Количество покупателей': 0, 'Количество новых покупателей': 1, 'Доход от покупок новых покупателей': 66402}, {'Канал привлечения заявки': 'insta', 'Клуб': 'club #2', 'Менеджер': 'manager #8', 'Количество заявок': 16, 'Количество мусорных заявок': 1, 'Количество новых заявок': 16, 'Количество покупателей': 0, 'Количество новых покупателей': 1, 'Доход от покупок новых покупателей': 66402}, {'Канал привлечения заявки': 'insta', 'Клуб': 'club #2', 'Менеджер': 'manager #8', 'Количество заявок': 16, 'Количество мусорных заявок': 1, 'Количество новых заявок': 16, 'Количество покупателей': 0, 'Количество новых покупателей': 1, 'Доход от покупок новых покупателей': 66402}]\n"
          ],
          "name": "stdout"
        }
      ]
    },
    {
      "cell_type": "code",
      "metadata": {
        "colab": {
          "base_uri": "https://localhost:8080/"
        },
        "id": "Wmetdcccm8ha",
        "outputId": "40e1edd4-d6fa-4b58-ea14-1cd513c91a4e"
      },
      "source": [
        "pip install pygsheets"
      ],
      "execution_count": 9,
      "outputs": [
        {
          "output_type": "stream",
          "text": [
            "Collecting pygsheets\n",
            "\u001b[?25l  Downloading https://files.pythonhosted.org/packages/2a/21/09e19c00e37d7f936d19f5ceffb01c2ef471f9c48d90fde045a654e91cc8/pygsheets-2.0.5-py2.py3-none-any.whl (147kB)\n",
            "\r\u001b[K     |██▏                             | 10kB 14.1MB/s eta 0:00:01\r\u001b[K     |████▍                           | 20kB 19.9MB/s eta 0:00:01\r\u001b[K     |██████▋                         | 30kB 17.5MB/s eta 0:00:01\r\u001b[K     |████████▉                       | 40kB 15.0MB/s eta 0:00:01\r\u001b[K     |███████████                     | 51kB 8.5MB/s eta 0:00:01\r\u001b[K     |█████████████▎                  | 61kB 9.7MB/s eta 0:00:01\r\u001b[K     |███████████████▌                | 71kB 8.3MB/s eta 0:00:01\r\u001b[K     |█████████████████▊              | 81kB 9.1MB/s eta 0:00:01\r\u001b[K     |████████████████████            | 92kB 9.6MB/s eta 0:00:01\r\u001b[K     |██████████████████████▏         | 102kB 6.5MB/s eta 0:00:01\r\u001b[K     |████████████████████████▍       | 112kB 6.5MB/s eta 0:00:01\r\u001b[K     |██████████████████████████▋     | 122kB 6.5MB/s eta 0:00:01\r\u001b[K     |████████████████████████████▉   | 133kB 6.5MB/s eta 0:00:01\r\u001b[K     |███████████████████████████████ | 143kB 6.5MB/s eta 0:00:01\r\u001b[K     |████████████████████████████████| 153kB 6.5MB/s \n",
            "\u001b[?25hRequirement already satisfied: google-auth-oauthlib in /usr/local/lib/python3.7/dist-packages (from pygsheets) (0.4.4)\n",
            "Requirement already satisfied: google-api-python-client>=1.5.5 in /usr/local/lib/python3.7/dist-packages (from pygsheets) (1.12.8)\n",
            "Requirement already satisfied: google-auth>=1.0.0 in /usr/local/lib/python3.7/dist-packages (from google-auth-oauthlib->pygsheets) (1.30.0)\n",
            "Requirement already satisfied: requests-oauthlib>=0.7.0 in /usr/local/lib/python3.7/dist-packages (from google-auth-oauthlib->pygsheets) (1.3.0)\n",
            "Requirement already satisfied: google-api-core<2dev,>=1.21.0 in /usr/local/lib/python3.7/dist-packages (from google-api-python-client>=1.5.5->pygsheets) (1.26.3)\n",
            "Requirement already satisfied: httplib2<1dev,>=0.15.0 in /usr/local/lib/python3.7/dist-packages (from google-api-python-client>=1.5.5->pygsheets) (0.17.4)\n",
            "Requirement already satisfied: six<2dev,>=1.13.0 in /usr/local/lib/python3.7/dist-packages (from google-api-python-client>=1.5.5->pygsheets) (1.15.0)\n",
            "Requirement already satisfied: uritemplate<4dev,>=3.0.0 in /usr/local/lib/python3.7/dist-packages (from google-api-python-client>=1.5.5->pygsheets) (3.0.1)\n",
            "Requirement already satisfied: google-auth-httplib2>=0.0.3 in /usr/local/lib/python3.7/dist-packages (from google-api-python-client>=1.5.5->pygsheets) (0.0.4)\n",
            "Requirement already satisfied: rsa<5,>=3.1.4; python_version >= \"3.6\" in /usr/local/lib/python3.7/dist-packages (from google-auth>=1.0.0->google-auth-oauthlib->pygsheets) (4.7.2)\n",
            "Requirement already satisfied: pyasn1-modules>=0.2.1 in /usr/local/lib/python3.7/dist-packages (from google-auth>=1.0.0->google-auth-oauthlib->pygsheets) (0.2.8)\n",
            "Requirement already satisfied: setuptools>=40.3.0 in /usr/local/lib/python3.7/dist-packages (from google-auth>=1.0.0->google-auth-oauthlib->pygsheets) (57.0.0)\n",
            "Requirement already satisfied: cachetools<5.0,>=2.0.0 in /usr/local/lib/python3.7/dist-packages (from google-auth>=1.0.0->google-auth-oauthlib->pygsheets) (4.2.2)\n",
            "Requirement already satisfied: requests>=2.0.0 in /usr/local/lib/python3.7/dist-packages (from requests-oauthlib>=0.7.0->google-auth-oauthlib->pygsheets) (2.23.0)\n",
            "Requirement already satisfied: oauthlib>=3.0.0 in /usr/local/lib/python3.7/dist-packages (from requests-oauthlib>=0.7.0->google-auth-oauthlib->pygsheets) (3.1.0)\n",
            "Requirement already satisfied: googleapis-common-protos<2.0dev,>=1.6.0 in /usr/local/lib/python3.7/dist-packages (from google-api-core<2dev,>=1.21.0->google-api-python-client>=1.5.5->pygsheets) (1.53.0)\n",
            "Requirement already satisfied: pytz in /usr/local/lib/python3.7/dist-packages (from google-api-core<2dev,>=1.21.0->google-api-python-client>=1.5.5->pygsheets) (2018.9)\n",
            "Requirement already satisfied: protobuf>=3.12.0 in /usr/local/lib/python3.7/dist-packages (from google-api-core<2dev,>=1.21.0->google-api-python-client>=1.5.5->pygsheets) (3.12.4)\n",
            "Requirement already satisfied: packaging>=14.3 in /usr/local/lib/python3.7/dist-packages (from google-api-core<2dev,>=1.21.0->google-api-python-client>=1.5.5->pygsheets) (20.9)\n",
            "Requirement already satisfied: pyasn1>=0.1.3 in /usr/local/lib/python3.7/dist-packages (from rsa<5,>=3.1.4; python_version >= \"3.6\"->google-auth>=1.0.0->google-auth-oauthlib->pygsheets) (0.4.8)\n",
            "Requirement already satisfied: chardet<4,>=3.0.2 in /usr/local/lib/python3.7/dist-packages (from requests>=2.0.0->requests-oauthlib>=0.7.0->google-auth-oauthlib->pygsheets) (3.0.4)\n",
            "Requirement already satisfied: idna<3,>=2.5 in /usr/local/lib/python3.7/dist-packages (from requests>=2.0.0->requests-oauthlib>=0.7.0->google-auth-oauthlib->pygsheets) (2.10)\n",
            "Requirement already satisfied: urllib3!=1.25.0,!=1.25.1,<1.26,>=1.21.1 in /usr/local/lib/python3.7/dist-packages (from requests>=2.0.0->requests-oauthlib>=0.7.0->google-auth-oauthlib->pygsheets) (1.24.3)\n",
            "Requirement already satisfied: certifi>=2017.4.17 in /usr/local/lib/python3.7/dist-packages (from requests>=2.0.0->requests-oauthlib>=0.7.0->google-auth-oauthlib->pygsheets) (2020.12.5)\n",
            "Requirement already satisfied: pyparsing>=2.0.2 in /usr/local/lib/python3.7/dist-packages (from packaging>=14.3->google-api-core<2dev,>=1.21.0->google-api-python-client>=1.5.5->pygsheets) (2.4.7)\n",
            "Installing collected packages: pygsheets\n",
            "Successfully installed pygsheets-2.0.5\n"
          ],
          "name": "stdout"
        }
      ]
    },
    {
      "cell_type": "code",
      "metadata": {
        "id": "ArwniN30kEKt"
      },
      "source": [
        "import pygsheets\n",
        "import pandas as pd\n",
        "\n",
        "gc = pygsheets.authorize(service_file='client_secret.json')\n",
        "sh = gc.open('Metrics')\n",
        "\n",
        "for i in range(len(metric_results)):\n",
        "  wsk = sh[i]\n",
        "  df = pd.DataFrame(metric_results[i])\n",
        "  wsk.set_dataframe(df,(1,1),extend=True)"
      ],
      "execution_count": 25,
      "outputs": []
    }
  ]
}